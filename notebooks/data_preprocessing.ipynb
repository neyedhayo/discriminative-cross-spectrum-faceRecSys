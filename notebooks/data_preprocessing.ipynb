{
 "cells": [
  {
   "cell_type": "code",
   "execution_count": 1,
   "metadata": {},
   "outputs": [],
   "source": [
    "import zipfile\n",
    "import cv2\n",
    "import numpy as np\n",
    "import os\n",
    "from io import BytesIO\n",
    "from tqdm import tqdm\n",
    "from PIL import Image"
   ]
  },
  {
   "cell_type": "code",
   "execution_count": 13,
   "metadata": {},
   "outputs": [],
   "source": [
    "file_path = '../data/raw/face Dataset.zip'\n",
    "processed_path = '../data/processed/'\n",
    "train_path = os.path.join(processed_path, 'train')\n",
    "test_path = os.path.join(processed_path, 'test')"
   ]
  },
  {
   "cell_type": "code",
   "execution_count": 14,
   "metadata": {},
   "outputs": [],
   "source": [
    "# Ensure the processed data directories exist\n",
    "os.makedirs(train_path, exist_ok=True)\n",
    "os.makedirs(test_path, exist_ok=True)"
   ]
  },
  {
   "cell_type": "code",
   "execution_count": 15,
   "metadata": {},
   "outputs": [],
   "source": [
    "target_size = (224, 224)"
   ]
  },
  {
   "cell_type": "code",
   "execution_count": 16,
   "metadata": {},
   "outputs": [],
   "source": [
    "def normalize_image(image):\n",
    "    return image / 255.0"
   ]
  },
  {
   "cell_type": "code",
   "execution_count": 17,
   "metadata": {},
   "outputs": [],
   "source": [
    "# read and preprocess images from zip\n",
    "def preprocess_and_save_images(file_path, target_dir):\n",
    "    with zipfile.ZipFile(file_path, 'r') as zip_ref:\n",
    "        for file_info in tqdm(zip_ref.infolist(), desc='Processing images'):\n",
    "            if file_info.filename.endswith('.jpg'):\n",
    "                try:\n",
    "                    with zip_ref.open(file_info.filename) as file:\n",
    "                        image = Image.open(BytesIO(file.read())).convert('RGB')\n",
    "\n",
    "                    image = np.array(image)\n",
    "                    image_resized = cv2.resize(image, target_size)\n",
    "                    image_normalized = normalize_image(image_resized)\n",
    "\n",
    "                    target_path = os.path.join(target_dir, file_info.filename)\n",
    "                    os.makedirs(os.path.dirname(target_path), exist_ok=True)\n",
    "\n",
    "                    # Save the processed image\n",
    "                    cv2.imwrite(target_path, (image_normalized * 255).astype(np.uint8))\n",
    "\n",
    "                except Exception as e:\n",
    "                    print(f\"Error processing image {file_info.filename}: {e}\")"
   ]
  },
  {
   "cell_type": "code",
   "execution_count": 18,
   "metadata": {},
   "outputs": [
    {
     "name": "stdout",
     "output_type": "stream",
     "text": [
      "Current Working Directory: /home/lordmax/machine-learning-projects/cross-domain-face-recognition/notebooks\n"
     ]
    }
   ],
   "source": [
    "print(\"Current Working Directory:\", os.getcwd())\n"
   ]
  },
  {
   "cell_type": "code",
   "execution_count": 19,
   "metadata": {},
   "outputs": [
    {
     "name": "stdout",
     "output_type": "stream",
     "text": [
      "Does the file exist? True\n"
     ]
    }
   ],
   "source": [
    "print(\"Does the file exist?\", os.path.exists(file_path))"
   ]
  },
  {
   "cell_type": "code",
   "execution_count": 20,
   "metadata": {},
   "outputs": [
    {
     "name": "stderr",
     "output_type": "stream",
     "text": [
      "Processing images: 100%|██████████| 3066/3066 [00:17<00:00, 175.91it/s]\n",
      "Processing images: 100%|██████████| 3066/3066 [00:10<00:00, 282.10it/s]"
     ]
    },
    {
     "name": "stdout",
     "output_type": "stream",
     "text": [
      "Data preprocessing complete.\n"
     ]
    },
    {
     "name": "stderr",
     "output_type": "stream",
     "text": [
      "\n"
     ]
    }
   ],
   "source": [
    "preprocess_and_save_images(file_path, train_path)\n",
    "preprocess_and_save_images(file_path, test_path)\n",
    "\n",
    "print(\"Data preprocessing complete.\")"
   ]
  },
  {
   "cell_type": "code",
   "execution_count": null,
   "metadata": {},
   "outputs": [],
   "source": []
  },
  {
   "cell_type": "code",
   "execution_count": null,
   "metadata": {},
   "outputs": [],
   "source": []
  }
 ],
 "metadata": {
  "kernelspec": {
   "display_name": "faceRecenv",
   "language": "python",
   "name": "python3"
  },
  "language_info": {
   "codemirror_mode": {
    "name": "ipython",
    "version": 3
   },
   "file_extension": ".py",
   "mimetype": "text/x-python",
   "name": "python",
   "nbconvert_exporter": "python",
   "pygments_lexer": "ipython3",
   "version": "3.10.12"
  }
 },
 "nbformat": 4,
 "nbformat_minor": 2
}
